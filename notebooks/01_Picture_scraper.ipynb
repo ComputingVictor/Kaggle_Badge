{
 "cells": [
  {
   "cell_type": "code",
   "execution_count": null,
   "metadata": {},
   "outputs": [],
   "source": [
    "from PIL import Image\n",
    "import requests\n",
    "from io import BytesIO\n",
    "import matplotlib.pyplot as plt\n",
    "import re\n",
    "from selenium import webdriver\n",
    "from selenium.webdriver.common.by import By\n",
    "from selenium.webdriver.chrome.service import Service\n",
    "from webdriver_manager.chrome import ChromeDriverManager"
   ]
  },
  {
   "cell_type": "code",
   "execution_count": null,
   "metadata": {},
   "outputs": [],
   "source": [
    "\n",
    "# Configura Selenium para usar Chrome\n",
    "service = Service(ChromeDriverManager().install())\n",
    "# Dont open the browser\n",
    "options = webdriver.ChromeOptions()\n",
    "options.add_argument(\"--headless\") \n",
    "# Driver\n",
    "driver = webdriver.Chrome(service=service,options=options)\n",
    "\n",
    "\n",
    "user = 'computingvictor'\n",
    "# Abre la URL objetivo\n",
    "driver.get(f'https://www.kaggle.com/{user}')\n",
    "\n",
    "# Usa una espera implícita si es necesario para asegurar que la página haya cargado\n",
    "driver.implicitly_wait(10)\n",
    "\n",
    "# Encuentra el elemento por su atributo data-testid\n",
    "elemento = driver.find_element(By.CSS_SELECTOR, 'div[data-testid=\"avatar-image\"]')\n",
    "\n",
    "# Extrae el valor del atributo 'style' del elemento\n",
    "style_attr = elemento.get_attribute('style')\n",
    "\n",
    "# Cierra el navegador\n",
    "driver.quit()\n",
    "\n",
    "\n",
    "url_match = re.search(r'url\\(\"([^\"]+)\"\\)', style_attr)[1]\n",
    "\n",
    "\n",
    "    # Verifica si la URL es completa o relativa\n",
    "if not url_match.startswith('http'):\n",
    "        # Asume que la URL es relativa y decide no cargarla (o ajusta según sea necesario)\n",
    "        image_path = \"..\\\\img\\\\default-avatar.png\"\n",
    "        image = Image.open(image_path)\n",
    "        plt.imshow(image)\n",
    "        plt.axis('off')  # Oculta los ejes\n",
    "        plt.show()\n",
    "else:\n",
    "        # La URL es completa, realiza una solicitud HTTP GET para obtener la imagen\n",
    "        response = requests.get(url_match)\n",
    "        image = Image.open(BytesIO(response.content))\n",
    "        plt.imshow(image)\n",
    "        plt.axis('off')  # Oculta los ejes\n",
    "        plt.show()\n"
   ]
  }
 ],
 "metadata": {
  "kernelspec": {
   "display_name": "Python 3",
   "language": "python",
   "name": "python3"
  },
  "language_info": {
   "codemirror_mode": {
    "name": "ipython",
    "version": 3
   },
   "file_extension": ".py",
   "mimetype": "text/x-python",
   "name": "python",
   "nbconvert_exporter": "python",
   "pygments_lexer": "ipython3",
   "version": "3.11.4"
  }
 },
 "nbformat": 4,
 "nbformat_minor": 2
}
